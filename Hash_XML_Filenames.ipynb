{
  "nbformat": 4,
  "nbformat_minor": 0,
  "metadata": {
    "colab": {
      "provenance": [],
      "authorship_tag": "ABX9TyMIUxnFUAVbV/KtiugBYa1y",
      "include_colab_link": true
    },
    "kernelspec": {
      "name": "python3",
      "display_name": "Python 3"
    },
    "language_info": {
      "name": "python"
    }
  },
  "cells": [
    {
      "cell_type": "markdown",
      "metadata": {
        "id": "view-in-github",
        "colab_type": "text"
      },
      "source": [
        "<a href=\"https://colab.research.google.com/github/jhajagos/PHR2OHDSI/blob/main/Hash_XML_Filenames.ipynb\" target=\"_parent\"><img src=\"https://colab.research.google.com/assets/colab-badge.svg\" alt=\"Open In Colab\"/></a>"
      ]
    },
    {
      "cell_type": "markdown",
      "source": [
        "This notebook is for hashing names of CDAs downloaded from a patient portal. The downloaded CDAs often contain indentifiable information. To limit this we rename the files and maintain a map file.\n",
        "\n",
        "Script allows new files to be added and existing files to be updated.\n"
      ],
      "metadata": {
        "id": "C6kWe-SCkkCC"
      }
    },
    {
      "cell_type": "code",
      "execution_count": 1,
      "metadata": {
        "id": "akU7ovk6n3x6"
      },
      "outputs": [],
      "source": [
        "import os\n",
        "import glob\n",
        "import pathlib\n",
        "import csv\n",
        "import hashlib\n",
        "import shutil\n",
        "import pandas as pd"
      ]
    },
    {
      "cell_type": "code",
      "source": [
        "from google.colab import drive\n",
        "drive.mount('/content/drive')"
      ],
      "metadata": {
        "colab": {
          "base_uri": "https://localhost:8080/"
        },
        "id": "kRdjZgtYoBCE",
        "outputId": "dbece73a-f763-4be5-cc6d-77f3a9ab3f14"
      },
      "execution_count": 2,
      "outputs": [
        {
          "output_type": "stream",
          "name": "stdout",
          "text": [
            "Mounted at /content/drive\n"
          ]
        }
      ]
    },
    {
      "cell_type": "code",
      "source": [
        "CDA_FILE_PATH = \"/content/drive/MyDrive/phr_ohdsi/source/jgh_documents/\"\n",
        "salt_for_renaming = \"C-CDA documents are an unsung hero\""
      ],
      "metadata": {
        "id": "HLTcZB26ozwD"
      },
      "execution_count": 4,
      "outputs": []
    },
    {
      "cell_type": "code",
      "source": [
        "attic_path = pathlib.Path(CDA_FILE_PATH) / \"attic\"\n",
        "file_name_map_name = attic_path / \"file_name_map.csv\"\n",
        "\n",
        "if not(os.path.exists(attic_path)):\n",
        "  os.makedir(attic_path)\n",
        "  file_name_map_df = None"
      ],
      "metadata": {
        "id": "vUEr2TsioJgP"
      },
      "execution_count": 5,
      "outputs": []
    },
    {
      "cell_type": "code",
      "source": [
        "xml_files = glob.glob(str(CDA_FILE_PATH) + \"*.xml\") + glob.glob(str(CDA_FILE_PATH) + \"*.XML\")\n",
        "xml_files_hash = {}\n",
        "for xml_file in xml_files:\n",
        "  with open(xml_file, \"rb\") as f:\n",
        "    h = hashlib.sha256(f.read())\n",
        "    xml_files_hash[xml_file] = h.hexdigest()\n"
      ],
      "metadata": {
        "id": "c6MjcbkppTx1"
      },
      "execution_count": 6,
      "outputs": []
    },
    {
      "cell_type": "code",
      "source": [
        "hashed_xml_files = glob.glob(str(CDA_FILE_PATH) + \"mn_*.xml\")\n",
        "\n",
        "hashed_xml_files_hash = {} # Hold hash signatures for files\n",
        "for hashed_xml_file in hashed_xml_files:\n",
        "  with open(hashed_xml_file, \"rb\") as f:\n",
        "    h = hashlib.sha256(f.read())\n",
        "    hashed_xml_files_hash[hashed_xml_file] = h.hexdigest()\n",
        "\n"
      ],
      "metadata": {
        "id": "6T47u6ippzD_"
      },
      "execution_count": 7,
      "outputs": []
    },
    {
      "cell_type": "code",
      "source": [
        "updated_files = []\n",
        "file_names_map_dict = {}\n",
        "\n",
        "for file_name in xml_files:\n",
        "  renamed_file_name = \"mn_\"+  hashlib.blake2b((file_name + salt_for_renaming).encode(\"utf8\"), digest_size=16).hexdigest() + \".xml\"\n",
        "  file_names_map_dict[file_name] = renamed_file_name\n",
        "  # Check if file has changed\n",
        "  if renamed_file_name in hashed_xml_files:\n",
        "    h_renamed = hash_xml_files[renamed_file_name]\n",
        "    h_file = xml_files_hash[file_name]\n",
        "    if h_renamed != h_file:\n",
        "      updated_files += [file_name]\n",
        "      print(f\"Files '{file_name}' has been updated\")\n",
        "\n"
      ],
      "metadata": {
        "id": "bpkprFKHqd8P"
      },
      "execution_count": 8,
      "outputs": []
    },
    {
      "cell_type": "code",
      "source": [
        "first_pass_files = set(hashed_xml_files) - set(updated_files) # Remove files that now have an updated file\n",
        "files_to_rename = set(xml_files) - first_pass_files\n",
        "file_names_map = []\n"
      ],
      "metadata": {
        "id": "aKokls7pX5TF"
      },
      "execution_count": 9,
      "outputs": []
    },
    {
      "cell_type": "code",
      "source": [
        "for file_name in files_to_rename:\n",
        "\n",
        "  renamed_file_name = file_names_map_dict[file_name]\n",
        "\n",
        "  file_names_map += [{\"original_file_name\": file_name, \"renamed_file_name\": renamed_file_name}]\n",
        "  shutil.copyfile(file_name, pathlib.Path(CDA_FILE_PATH) / renamed_file_name)\n",
        "  shutil.move(file_name,  attic_path /  os.path.split(file_name)[1])\n",
        "\n",
        "file_name_map_df = pd.DataFrame(file_names_map)\n",
        "\n",
        "if not os.path.exists(file_name_map_name):\n",
        "  file_name_map_df.to_csv(file_name_map_name, index=False)\n",
        "else:\n",
        "  existing_file_name_map_df = pd.read_csv(file_name_map_name)\n",
        "  file_name_map_df = pd.concat([existing_file_name_map_df, file_name_map_df], axis=1).drop_duplicates()\n",
        "  file_name_map_df.to_csv(file_name_map_name, index=False)"
      ],
      "metadata": {
        "id": "vBaI-JfZYuNb"
      },
      "execution_count": 10,
      "outputs": []
    },
    {
      "cell_type": "code",
      "source": [
        "!ls {CDA_FILE_PATH}"
      ],
      "metadata": {
        "id": "wuflk8nLs78T",
        "colab": {
          "base_uri": "https://localhost:8080/"
        },
        "outputId": "1ff0984a-4e4f-4017-d414-ecd6d2845cf8"
      },
      "execution_count": 11,
      "outputs": [
        {
          "output_type": "stream",
          "name": "stdout",
          "text": [
            "attic\n",
            "mn_034b66e07897fde6fdc27ee8c42dd539.xml\n",
            "mn_13ff002a19516bc7e1039213a8510113.xml\n",
            "mn_1562e983740c425fea1c4df43b6c7fe5.xml\n",
            "mn_2c59c0cb0af5beea07b9549cae482913.xml\n",
            "mn_2cd17f56fdbaf0792c8badaaf2f3328b.xml\n",
            "mn_690eee739266146b55137e18d024bd8d.xml\n",
            "mn_71ca3d925c1b4c4b158ab330b89faa81.xml\n",
            "mn_832f18645bcc13b27600207cd93606b7.xml\n",
            "mn_8415cf0c29000af661006a6e2017e53d.xml\n",
            "mn_a186826f2db3a0e3a49ea66b448dd231.xml\n",
            "mn_a2628ac4f3a9fb0243d0d9dfbe225656.xml\n",
            "mn_a65018ddb1c54ea51a45841441890077.xml\n",
            "mn_af817edf49e0ebac5ba227981c3b4f6e.xml\n",
            "mn_b0a6b93c261e53f053a128e070bdc217.xml\n",
            "mn_bbaf4fee421d581d64224170be4ad112.xml\n",
            "output\n"
          ]
        }
      ]
    },
    {
      "cell_type": "code",
      "source": [],
      "metadata": {
        "id": "JALk6MjUZTeg"
      },
      "execution_count": null,
      "outputs": []
    }
  ]
}