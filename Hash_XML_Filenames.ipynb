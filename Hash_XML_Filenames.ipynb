{
  "nbformat": 4,
  "nbformat_minor": 0,
  "metadata": {
    "colab": {
      "provenance": [],
      "authorship_tag": "ABX9TyNhQN4UmTrJCQsDMA5hKiRn",
      "include_colab_link": true
    },
    "kernelspec": {
      "name": "python3",
      "display_name": "Python 3"
    },
    "language_info": {
      "name": "python"
    }
  },
  "cells": [
    {
      "cell_type": "markdown",
      "metadata": {
        "id": "view-in-github",
        "colab_type": "text"
      },
      "source": [
        "<a href=\"https://colab.research.google.com/github/jhajagos/PHR2OHDSI/blob/main/Hash_XML_Filenames.ipynb\" target=\"_parent\"><img src=\"https://colab.research.google.com/assets/colab-badge.svg\" alt=\"Open In Colab\"/></a>"
      ]
    },
    {
      "cell_type": "markdown",
      "source": [
        "This notebook is for hashing names of CDAs downloaded from a patient portal. The downloaded CDAs often contain indentifiable information. To limit this we rename the files and maintain a map file.\n",
        "\n",
        "Script allows new files to be added and existing files to be updated.\n"
      ],
      "metadata": {
        "id": "C6kWe-SCkkCC"
      }
    },
    {
      "cell_type": "code",
      "execution_count": null,
      "metadata": {
        "id": "akU7ovk6n3x6"
      },
      "outputs": [],
      "source": [
        "import os\n",
        "import glob\n",
        "import pathlib\n",
        "import csv\n",
        "import hashlib\n",
        "import shutil\n",
        "import pandas as pd"
      ]
    },
    {
      "cell_type": "code",
      "source": [
        "from google.colab import drive\n",
        "drive.mount('/content/drive')"
      ],
      "metadata": {
        "colab": {
          "base_uri": "https://localhost:8080/"
        },
        "id": "kRdjZgtYoBCE",
        "outputId": "9834c837-02f5-49f9-bfc5-badac09a3390"
      },
      "execution_count": null,
      "outputs": [
        {
          "output_type": "stream",
          "name": "stdout",
          "text": [
            "Drive already mounted at /content/drive; to attempt to forcibly remount, call drive.mount(\"/content/drive\", force_remount=True).\n"
          ]
        }
      ]
    },
    {
      "cell_type": "code",
      "source": [
        "CDA_FILE_PATH = \"/content/drive/MyDrive/phr_ohdsi/source/jgh_documents/\"\n",
        "salt_for_renaming = \"C-CDA docuemtns are an unsung hero\""
      ],
      "metadata": {
        "id": "HLTcZB26ozwD"
      },
      "execution_count": null,
      "outputs": []
    },
    {
      "cell_type": "code",
      "source": [
        "attic_path = pathlib.Path(CDA_FILE_PATH) / \"attic\"\n",
        "file_name_map_name = attic_path / \"file_name_map.csv\"\n",
        "\n",
        "if not(os.path.exists(attic_path)):\n",
        "  os.makedir(attic_path)\n",
        "  file_name_map_df = None"
      ],
      "metadata": {
        "id": "vUEr2TsioJgP"
      },
      "execution_count": null,
      "outputs": []
    },
    {
      "cell_type": "code",
      "source": [
        "xml_files = glob.glob(str(CDA_FILE_PATH) + \"*.xml\") + glob.glob(str(CDA_FILE_PATH) + \"*.XML\")\n",
        "xml_files_hash = {}\n",
        "for xml_file in xml_files:\n",
        "  with open(xml_file, \"rb\") as f:\n",
        "    h = hashlib.sha256(f.read())\n",
        "    xml_files_hash[xml_file] = h.hexdigest()\n"
      ],
      "metadata": {
        "id": "c6MjcbkppTx1",
        "colab": {
          "base_uri": "https://localhost:8080/"
        },
        "outputId": "460ede07-245b-4be6-8fb6-a1f15ec1021a"
      },
      "execution_count": null,
      "outputs": [
        {
          "output_type": "stream",
          "name": "stdout",
          "text": [
            "{'/content/drive/MyDrive/phr_ohdsi/source/jgh_documents/mn_832f18645bcc13b27600207cd93606b7.xml': '9dd4bfb7da4bf8474f63f13fc8222ed2c58ee41b53fa33b1c722db755ff8ef1a', '/content/drive/MyDrive/phr_ohdsi/source/jgh_documents/mn_1562e983740c425fea1c4df43b6c7fe5.xml': '65e33b422ce3d3b548dd005b5a8bd1486e92b3df5935fb0c6357bc0dfcf24e44', '/content/drive/MyDrive/phr_ohdsi/source/jgh_documents/mn_a65018ddb1c54ea51a45841441890077.xml': '1abab8c344a8a5fa9ed50e7b61dbf3a20137ec996bccf858e5df99afa0c3f612', '/content/drive/MyDrive/phr_ohdsi/source/jgh_documents/mn_71ca3d925c1b4c4b158ab330b89faa81.xml': '27316175b42158cfeed4f9fd5d4f9acd5fb1b90a990d24fa1903a6fb885078bc', '/content/drive/MyDrive/phr_ohdsi/source/jgh_documents/mn_b0a6b93c261e53f053a128e070bdc217.xml': 'a40bc84e7eabf11f6ba45345bdccc994bc1e2895613d83db176accb50d94e4f1', '/content/drive/MyDrive/phr_ohdsi/source/jgh_documents/mn_bbaf4fee421d581d64224170be4ad112.xml': '22c053fc646810519126f9b13436d7fc4855b27ca156cad89b5af96faf510815', '/content/drive/MyDrive/phr_ohdsi/source/jgh_documents/mn_a2628ac4f3a9fb0243d0d9dfbe225656.xml': '0ce5f87a6be18348bffe4edd8db1fce097827f647f8da831901797ebc919b851', '/content/drive/MyDrive/phr_ohdsi/source/jgh_documents/mn_a186826f2db3a0e3a49ea66b448dd231.xml': '17917e57399a7d995785a6504454170c635a5f645325ed29eff70b678be69f71', '/content/drive/MyDrive/phr_ohdsi/source/jgh_documents/mn_2c59c0cb0af5beea07b9549cae482913.xml': 'f523c5d6f586b8fdc793922e044b14e7cb2c2949e05cd793ae4de4e4c8a0a0ae', '/content/drive/MyDrive/phr_ohdsi/source/jgh_documents/mn_690eee739266146b55137e18d024bd8d.xml': '5306eceec1c238e1f99f078297f513647bcf117f8e952341685bcd1b10485e18', '/content/drive/MyDrive/phr_ohdsi/source/jgh_documents/mn_af817edf49e0ebac5ba227981c3b4f6e.xml': '3f67d8c4b74b87d78fc3e660e273ec1ed4feadc76ef49e7cb8c1ad56abe7fc3b', '/content/drive/MyDrive/phr_ohdsi/source/jgh_documents/mn_034b66e07897fde6fdc27ee8c42dd539.xml': '55a7bb87c8d803b32d3ee0cc1c84979a15251915de98cf14f91fc2eeaed74b59', '/content/drive/MyDrive/phr_ohdsi/source/jgh_documents/mn_2cd17f56fdbaf0792c8badaaf2f3328b.xml': '2d61afd143d83f6f8601737bdd104a49b47fe0f33e8d005edb64f20d395a7e94', '/content/drive/MyDrive/phr_ohdsi/source/jgh_documents/mn_8415cf0c29000af661006a6e2017e53d.xml': '3af2795ac70cbec8c04723cccf33513a6804d6641207adc69fddb0d9af885868', '/content/drive/MyDrive/phr_ohdsi/source/jgh_documents/mn_13ff002a19516bc7e1039213a8510113.xml': '4761dd0ee3a31f0fad5af0100bdfffbb4a2656713c81d2ad5919364783a5ea44', '/content/drive/MyDrive/phr_ohdsi/source/jgh_documents/export_cda.xml': '957e31f5965d0fb03698193d2123db09a0b3972df8da54894c312dba485d41d0'}\n"
          ]
        }
      ]
    },
    {
      "cell_type": "code",
      "source": [
        "hashed_xml_files = glob.glob(str(CDA_FILE_PATH) + \"mn_*.xml\")\n",
        "\n",
        "hashed_xml_files_hash = {} # Hold hash signatures for files\n",
        "for hashed_xml_file in hashed_xml_files:\n",
        "  with open(hashed_xml_file, \"rb\") as f:\n",
        "    h = hashlib.sha256(f.read())\n",
        "    hashed_xml_files_hash[hashed_xml_file] = h.hexdigest()\n",
        "\n"
      ],
      "metadata": {
        "id": "6T47u6ippzD_",
        "colab": {
          "base_uri": "https://localhost:8080/"
        },
        "outputId": "adae48bc-28f2-42d6-9191-5f9f159c64a9"
      },
      "execution_count": null,
      "outputs": [
        {
          "output_type": "stream",
          "name": "stdout",
          "text": [
            "['/content/drive/MyDrive/phr_ohdsi/source/jgh_documents/mn_832f18645bcc13b27600207cd93606b7.xml', '/content/drive/MyDrive/phr_ohdsi/source/jgh_documents/mn_1562e983740c425fea1c4df43b6c7fe5.xml', '/content/drive/MyDrive/phr_ohdsi/source/jgh_documents/mn_a65018ddb1c54ea51a45841441890077.xml', '/content/drive/MyDrive/phr_ohdsi/source/jgh_documents/mn_71ca3d925c1b4c4b158ab330b89faa81.xml', '/content/drive/MyDrive/phr_ohdsi/source/jgh_documents/mn_b0a6b93c261e53f053a128e070bdc217.xml', '/content/drive/MyDrive/phr_ohdsi/source/jgh_documents/mn_bbaf4fee421d581d64224170be4ad112.xml', '/content/drive/MyDrive/phr_ohdsi/source/jgh_documents/mn_a2628ac4f3a9fb0243d0d9dfbe225656.xml', '/content/drive/MyDrive/phr_ohdsi/source/jgh_documents/mn_a186826f2db3a0e3a49ea66b448dd231.xml', '/content/drive/MyDrive/phr_ohdsi/source/jgh_documents/mn_2c59c0cb0af5beea07b9549cae482913.xml', '/content/drive/MyDrive/phr_ohdsi/source/jgh_documents/mn_690eee739266146b55137e18d024bd8d.xml', '/content/drive/MyDrive/phr_ohdsi/source/jgh_documents/mn_af817edf49e0ebac5ba227981c3b4f6e.xml', '/content/drive/MyDrive/phr_ohdsi/source/jgh_documents/mn_034b66e07897fde6fdc27ee8c42dd539.xml', '/content/drive/MyDrive/phr_ohdsi/source/jgh_documents/mn_2cd17f56fdbaf0792c8badaaf2f3328b.xml', '/content/drive/MyDrive/phr_ohdsi/source/jgh_documents/mn_8415cf0c29000af661006a6e2017e53d.xml', '/content/drive/MyDrive/phr_ohdsi/source/jgh_documents/mn_13ff002a19516bc7e1039213a8510113.xml']\n"
          ]
        }
      ]
    },
    {
      "cell_type": "code",
      "source": [
        "updated_files = []\n",
        "file_names_map_dict = {}\n",
        "\n",
        "for file_name in xml_files:\n",
        "  renamed_file_name = \"mn_\"+  hashlib.blake2b((file_name + salt_for_renaming).encode(\"utf8\"), digest_size=16).hexdigest() + \".xml\"\n",
        "  file_names_map_dict[file_name] = renamed_file_name\n",
        "  # Check if file has changed\n",
        "  if renamed_file_name in hashed_xml_files:\n",
        "    h_renamed = hash_xml_files[renamed_file_name]\n",
        "    h_file = xml_files_hash[file_name]\n",
        "    if h_renamed != h_file:\n",
        "      updated_files += [file_name]\n",
        "      print(f\"Files '{file_name}' has been updated\")\n",
        "\n"
      ],
      "metadata": {
        "id": "bpkprFKHqd8P",
        "colab": {
          "base_uri": "https://localhost:8080/"
        },
        "outputId": "2b5b6fed-0425-4c59-fb0f-710fb36f45ac"
      },
      "execution_count": null,
      "outputs": [
        {
          "output_type": "stream",
          "name": "stdout",
          "text": [
            "[]\n"
          ]
        }
      ]
    },
    {
      "cell_type": "code",
      "source": [
        "first_pass_files = set(hashed_xml_files) - set(updated_files) # Remove files that now have an updated file\n",
        "files_to_rename = set(xml_files) - first_pass_files\n",
        "file_names_map = []\n",
        "\n",
        "print(files_to_rename)"
      ],
      "metadata": {
        "colab": {
          "base_uri": "https://localhost:8080/"
        },
        "id": "aKokls7pX5TF",
        "outputId": "670c319f-cd87-4bcb-8d79-048e3fc0cb44"
      },
      "execution_count": null,
      "outputs": [
        {
          "output_type": "stream",
          "name": "stdout",
          "text": [
            "{'/content/drive/MyDrive/phr_ohdsi/source/jgh_documents/export_cda.xml'}\n"
          ]
        }
      ]
    },
    {
      "cell_type": "code",
      "source": [
        "for file_name in files_to_rename:\n",
        "\n",
        "  renamed_file_name = file_names_map_dict[file_name]\n",
        "\n",
        "  file_names_map += [{\"original_file_name\": file_name, \"renamed_file_name\": renamed_file_name}]\n",
        "  shutil.copyfile(file_name, pathlib.Path(CDA_FILE_PATH) / renamed_file_name)\n",
        "  shutil.move(file_name,  attic_path /  os.path.split(file_name)[1])\n",
        "\n",
        "file_name_map_df = pd.DataFrame(file_names_map)\n",
        "\n",
        "if not os.path.exists(file_name_map_name):\n",
        "  file_name_map_df.to_csv(file_name_map_name, index=False)\n",
        "else:\n",
        "  existing_file_name_map_df = pd.read_csv(file_name_map_name)\n",
        "  file_name_map_df = pd.concat([existing_file_name_map_df, file_name_map_df], axis=1).drop_duplicates()\n",
        "  file_name_map_df.to_csv(file_name_map_name, index=False)"
      ],
      "metadata": {
        "id": "vBaI-JfZYuNb"
      },
      "execution_count": null,
      "outputs": []
    },
    {
      "cell_type": "code",
      "source": [
        "!ls {CDA_FILE_PATH}"
      ],
      "metadata": {
        "id": "wuflk8nLs78T",
        "colab": {
          "base_uri": "https://localhost:8080/"
        },
        "outputId": "ea321b46-04b3-4795-ac9e-4c204b5ff9dc"
      },
      "execution_count": null,
      "outputs": [
        {
          "output_type": "stream",
          "name": "stdout",
          "text": [
            "attic\n",
            "mn_034b66e07897fde6fdc27ee8c42dd539.xml\n",
            "mn_13ff002a19516bc7e1039213a8510113.xml\n",
            "mn_1562e983740c425fea1c4df43b6c7fe5.xml\n",
            "mn_2c59c0cb0af5beea07b9549cae482913.xml\n",
            "mn_2cd17f56fdbaf0792c8badaaf2f3328b.xml\n",
            "mn_690eee739266146b55137e18d024bd8d.xml\n",
            "mn_71ca3d925c1b4c4b158ab330b89faa81.xml\n",
            "mn_832f18645bcc13b27600207cd93606b7.xml\n",
            "mn_8415cf0c29000af661006a6e2017e53d.xml\n",
            "mn_a186826f2db3a0e3a49ea66b448dd231.xml\n",
            "mn_a2628ac4f3a9fb0243d0d9dfbe225656.xml\n",
            "mn_a65018ddb1c54ea51a45841441890077.xml\n",
            "mn_af817edf49e0ebac5ba227981c3b4f6e.xml\n",
            "mn_b0a6b93c261e53f053a128e070bdc217.xml\n",
            "mn_bbaf4fee421d581d64224170be4ad112.xml\n",
            "output\n"
          ]
        }
      ]
    },
    {
      "cell_type": "code",
      "source": [],
      "metadata": {
        "id": "JALk6MjUZTeg"
      },
      "execution_count": null,
      "outputs": []
    }
  ]
}