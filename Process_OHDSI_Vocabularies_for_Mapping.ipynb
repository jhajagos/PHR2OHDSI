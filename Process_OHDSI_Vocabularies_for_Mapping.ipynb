{
  "nbformat": 4,
  "nbformat_minor": 0,
  "metadata": {
    "colab": {
      "provenance": [],
      "machine_shape": "hm",
      "authorship_tag": "ABX9TyMQLxxi8HVLohwzq0OpW3su",
      "include_colab_link": true
    },
    "kernelspec": {
      "name": "python3",
      "display_name": "Python 3"
    },
    "language_info": {
      "name": "python"
    }
  },
  "cells": [
    {
      "cell_type": "markdown",
      "metadata": {
        "id": "view-in-github",
        "colab_type": "text"
      },
      "source": [
        "<a href=\"https://colab.research.google.com/github/jhajagos/PHR2OHDSI/blob/main/Process_OHDSI_Vocabularies_for_Mapping.ipynb\" target=\"_parent\"><img src=\"https://colab.research.google.com/assets/colab-badge.svg\" alt=\"Open In Colab\"/></a>"
      ]
    },
    {
      "cell_type": "code",
      "source": [
        "import os\n",
        "import json"
      ],
      "metadata": {
        "id": "rlLbLsxqY8cp"
      },
      "execution_count": 1,
      "outputs": []
    },
    {
      "cell_type": "code",
      "execution_count": 2,
      "metadata": {
        "id": "R4v_SxnFYrDf",
        "colab": {
          "base_uri": "https://localhost:8080/"
        },
        "outputId": "26855aac-52ed-40e5-bfba-8ea34b078387"
      },
      "outputs": [
        {
          "output_type": "stream",
          "name": "stdout",
          "text": [
            "Requirement already satisfied: pyspark==3.5.5 in /usr/local/lib/python3.11/dist-packages (3.5.5)\n",
            "Requirement already satisfied: py4j==0.10.9.7 in /usr/local/lib/python3.11/dist-packages (from pyspark==3.5.5) (0.10.9.7)\n"
          ]
        }
      ],
      "source": [
        "%pip install pyspark==3.5.5"
      ]
    },
    {
      "cell_type": "code",
      "execution_count": 3,
      "metadata": {
        "colab": {
          "base_uri": "https://localhost:8080/"
        },
        "id": "oSrdwE4sMM8N",
        "outputId": "d2b31bd6-7ea1-4c51-e0d0-d8de47d95d9b"
      },
      "outputs": [
        {
          "output_type": "stream",
          "name": "stdout",
          "text": [
            "Collecting build\n",
            "  Downloading build-1.2.2.post1-py3-none-any.whl.metadata (6.5 kB)\n",
            "Requirement already satisfied: packaging>=19.1 in /usr/local/lib/python3.11/dist-packages (from build) (24.2)\n",
            "Collecting pyproject_hooks (from build)\n",
            "  Downloading pyproject_hooks-1.2.0-py3-none-any.whl.metadata (1.3 kB)\n",
            "Downloading build-1.2.2.post1-py3-none-any.whl (22 kB)\n",
            "Downloading pyproject_hooks-1.2.0-py3-none-any.whl (10 kB)\n",
            "Installing collected packages: pyproject_hooks, build\n",
            "Successfully installed build-1.2.2.post1 pyproject_hooks-1.2.0\n"
          ]
        }
      ],
      "source": [
        "%pip install build"
      ]
    },
    {
      "cell_type": "code",
      "source": [
        "OHSDI_VOCABULARY_PATH = \"/content/drive/MyDrive/OHDSI/vocabulary/20250317/\""
      ],
      "metadata": {
        "id": "JC9tfOqdpKRJ"
      },
      "execution_count": 4,
      "outputs": []
    },
    {
      "cell_type": "code",
      "execution_count": 5,
      "metadata": {
        "colab": {
          "base_uri": "https://localhost:8080/"
        },
        "id": "HNqgKHV7cfQ6",
        "outputId": "701b1654-a697-49d6-9141-fba0bb09da48"
      },
      "outputs": [
        {
          "output_type": "stream",
          "name": "stdout",
          "text": [
            "Mounted at /content/drive\n"
          ]
        }
      ],
      "source": [
        "from google.colab import drive\n",
        "drive.mount('/content/drive')"
      ]
    },
    {
      "cell_type": "code",
      "source": [
        "!git clone https://github.com/jhajagos/PreparedSource2OHDSI.git"
      ],
      "metadata": {
        "colab": {
          "base_uri": "https://localhost:8080/"
        },
        "id": "7AuYxrlIpu8h",
        "outputId": "ac3d1da7-8ad8-4dfa-efe6-908f37f3d672"
      },
      "execution_count": 7,
      "outputs": [
        {
          "output_type": "stream",
          "name": "stdout",
          "text": [
            "Cloning into 'PreparedSource2OHDSI'...\n",
            "remote: Enumerating objects: 1303, done.\u001b[K\n",
            "remote: Counting objects: 100% (91/91), done.\u001b[K\n",
            "remote: Compressing objects: 100% (66/66), done.\u001b[K\n",
            "remote: Total 1303 (delta 35), reused 68 (delta 23), pack-reused 1212 (from 1)\u001b[K\n",
            "Receiving objects: 100% (1303/1303), 259.50 KiB | 2.18 MiB/s, done.\n",
            "Resolving deltas: 100% (716/716), done.\n"
          ]
        }
      ]
    },
    {
      "cell_type": "code",
      "source": [],
      "metadata": {
        "id": "46z4U1ZFp6K4"
      },
      "execution_count": 7,
      "outputs": []
    },
    {
      "cell_type": "code",
      "execution_count": 8,
      "metadata": {
        "colab": {
          "base_uri": "https://localhost:8080/"
        },
        "id": "V5O6OVjALYOl",
        "outputId": "dccdf6f2-6868-4d7a-9167-9b419e3022c1"
      },
      "outputs": [
        {
          "output_type": "stream",
          "name": "stdout",
          "text": [
            "Already up to date.\n",
            "* Creating isolated environment: venv+pip...\n",
            "* Installing packages in isolated environment:\n",
            "  - setuptools\n",
            "  - wheel\n",
            "* Getting build dependencies for wheel...\n",
            "running egg_info\n",
            "creating src/preparedsource2ohdsi.egg-info\n",
            "writing src/preparedsource2ohdsi.egg-info/PKG-INFO\n",
            "writing dependency_links to src/preparedsource2ohdsi.egg-info/dependency_links.txt\n",
            "writing requirements to src/preparedsource2ohdsi.egg-info/requires.txt\n",
            "writing top-level names to src/preparedsource2ohdsi.egg-info/top_level.txt\n",
            "writing manifest file 'src/preparedsource2ohdsi.egg-info/SOURCES.txt'\n",
            "reading manifest file 'src/preparedsource2ohdsi.egg-info/SOURCES.txt'\n",
            "adding license file 'LICENSE'\n",
            "writing manifest file 'src/preparedsource2ohdsi.egg-info/SOURCES.txt'\n",
            "* Building wheel...\n",
            "running bdist_wheel\n",
            "running build\n",
            "running build_py\n",
            "creating build/lib/preparedsource2ohdsi\n",
            "copying src/preparedsource2ohdsi/__init__.py -> build/lib/preparedsource2ohdsi\n",
            "copying src/preparedsource2ohdsi/base_ohdsi_cdm.py -> build/lib/preparedsource2ohdsi\n",
            "copying src/preparedsource2ohdsi/prepared_source.py -> build/lib/preparedsource2ohdsi\n",
            "copying src/preparedsource2ohdsi/ohdsi_cdm_5_4.py -> build/lib/preparedsource2ohdsi\n",
            "copying src/preparedsource2ohdsi/ohdsi_cdm_5_3_1.py -> build/lib/preparedsource2ohdsi\n",
            "copying src/preparedsource2ohdsi/mapping_utilities.py -> build/lib/preparedsource2ohdsi\n",
            "running egg_info\n",
            "writing src/preparedsource2ohdsi.egg-info/PKG-INFO\n",
            "writing dependency_links to src/preparedsource2ohdsi.egg-info/dependency_links.txt\n",
            "writing requirements to src/preparedsource2ohdsi.egg-info/requires.txt\n",
            "writing top-level names to src/preparedsource2ohdsi.egg-info/top_level.txt\n",
            "reading manifest file 'src/preparedsource2ohdsi.egg-info/SOURCES.txt'\n",
            "adding license file 'LICENSE'\n",
            "writing manifest file 'src/preparedsource2ohdsi.egg-info/SOURCES.txt'\n",
            "installing to build/bdist.linux-x86_64/wheel\n",
            "running install\n",
            "running install_lib\n",
            "creating build/bdist.linux-x86_64/wheel\n",
            "creating build/bdist.linux-x86_64/wheel/preparedsource2ohdsi\n",
            "copying build/lib/preparedsource2ohdsi/__init__.py -> build/bdist.linux-x86_64/wheel/./preparedsource2ohdsi\n",
            "copying build/lib/preparedsource2ohdsi/base_ohdsi_cdm.py -> build/bdist.linux-x86_64/wheel/./preparedsource2ohdsi\n",
            "copying build/lib/preparedsource2ohdsi/prepared_source.py -> build/bdist.linux-x86_64/wheel/./preparedsource2ohdsi\n",
            "copying build/lib/preparedsource2ohdsi/ohdsi_cdm_5_4.py -> build/bdist.linux-x86_64/wheel/./preparedsource2ohdsi\n",
            "copying build/lib/preparedsource2ohdsi/ohdsi_cdm_5_3_1.py -> build/bdist.linux-x86_64/wheel/./preparedsource2ohdsi\n",
            "copying build/lib/preparedsource2ohdsi/mapping_utilities.py -> build/bdist.linux-x86_64/wheel/./preparedsource2ohdsi\n",
            "running install_egg_info\n",
            "Copying src/preparedsource2ohdsi.egg-info to build/bdist.linux-x86_64/wheel/./preparedsource2ohdsi-0.1.3-py3.11.egg-info\n",
            "running install_scripts\n",
            "creating build/bdist.linux-x86_64/wheel/preparedsource2ohdsi-0.1.3.dist-info/WHEEL\n",
            "creating '/content/PreparedSource2OHDSI/dist/.tmp-bcxqobym/preparedsource2ohdsi-0.1.3-py3-none-any.whl' and adding 'build/bdist.linux-x86_64/wheel' to it\n",
            "adding 'preparedsource2ohdsi/__init__.py'\n",
            "adding 'preparedsource2ohdsi/base_ohdsi_cdm.py'\n",
            "adding 'preparedsource2ohdsi/mapping_utilities.py'\n",
            "adding 'preparedsource2ohdsi/ohdsi_cdm_5_3_1.py'\n",
            "adding 'preparedsource2ohdsi/ohdsi_cdm_5_4.py'\n",
            "adding 'preparedsource2ohdsi/prepared_source.py'\n",
            "adding 'preparedsource2ohdsi-0.1.3.dist-info/LICENSE'\n",
            "adding 'preparedsource2ohdsi-0.1.3.dist-info/METADATA'\n",
            "adding 'preparedsource2ohdsi-0.1.3.dist-info/WHEEL'\n",
            "adding 'preparedsource2ohdsi-0.1.3.dist-info/top_level.txt'\n",
            "adding 'preparedsource2ohdsi-0.1.3.dist-info/RECORD'\n",
            "removing build/bdist.linux-x86_64/wheel\n",
            "Successfully built preparedsource2ohdsi-0.1.3-py3-none-any.whl\n",
            "Processing ./preparedsource2ohdsi-0.1.3-py3-none-any.whl\n",
            "Requirement already satisfied: pyspark in /usr/local/lib/python3.11/dist-packages (from preparedsource2ohdsi==0.1.3) (3.5.5)\n",
            "Requirement already satisfied: pandas in /usr/local/lib/python3.11/dist-packages (from preparedsource2ohdsi==0.1.3) (2.2.2)\n",
            "Requirement already satisfied: numpy>=1.23.2 in /usr/local/lib/python3.11/dist-packages (from pandas->preparedsource2ohdsi==0.1.3) (2.0.2)\n",
            "Requirement already satisfied: python-dateutil>=2.8.2 in /usr/local/lib/python3.11/dist-packages (from pandas->preparedsource2ohdsi==0.1.3) (2.8.2)\n",
            "Requirement already satisfied: pytz>=2020.1 in /usr/local/lib/python3.11/dist-packages (from pandas->preparedsource2ohdsi==0.1.3) (2025.1)\n",
            "Requirement already satisfied: tzdata>=2022.7 in /usr/local/lib/python3.11/dist-packages (from pandas->preparedsource2ohdsi==0.1.3) (2025.1)\n",
            "Requirement already satisfied: py4j==0.10.9.7 in /usr/local/lib/python3.11/dist-packages (from pyspark->preparedsource2ohdsi==0.1.3) (0.10.9.7)\n",
            "Requirement already satisfied: six>=1.5 in /usr/local/lib/python3.11/dist-packages (from python-dateutil>=2.8.2->pandas->preparedsource2ohdsi==0.1.3) (1.17.0)\n",
            "Installing collected packages: preparedsource2ohdsi\n",
            "Successfully installed preparedsource2ohdsi-0.1.3\n"
          ]
        }
      ],
      "source": [
        "%%sh\n",
        "cd ./PreparedSource2OHDSI\n",
        "git pull\n",
        "python -m build --wheel\n",
        "cd ./dist/\n",
        "pip install preparedsource2ohdsi-0.1.3-py3-none-any.whl"
      ]
    },
    {
      "cell_type": "code",
      "source": [
        "!cd {OHSDI_VOCABULARY_PATH}; unzip *.zip"
      ],
      "metadata": {
        "colab": {
          "base_uri": "https://localhost:8080/"
        },
        "id": "FVn5zgsEqL5O",
        "outputId": "0d434ac2-6845-454f-8136-91a50373c615"
      },
      "execution_count": 9,
      "outputs": [
        {
          "output_type": "stream",
          "name": "stdout",
          "text": [
            "Archive:  vocabulary_download_v5_{125167fd-6b4e-4793-be48-fbf1e778cabf}_1742253362890.zip\n",
            "  inflating: CONCEPT.csv             \n",
            "  inflating: DOMAIN.csv              \n",
            "  inflating: CONCEPT_CLASS.csv       \n",
            "  inflating: CONCEPT_CPT4.csv        \n",
            "  inflating: RELATIONSHIP.csv        \n",
            "  inflating: DRUG_STRENGTH.csv       \n",
            "  inflating: VOCABULARY.csv          \n",
            "  inflating: CONCEPT_SYNONYM.csv     \n",
            "  inflating: CONCEPT_ANCESTOR.csv    \n",
            "  inflating: CONCEPT_RELATIONSHIP.csv  \n",
            "replace cpt.sh? [y]es, [n]o, [A]ll, [N]one, [r]ename: "
          ]
        }
      ]
    },
    {
      "cell_type": "code",
      "source": [
        "with open(os.path.join(OHSDI_VOCABULARY_PATH, \"umls_api.json\")) as f:\n",
        "  config= json.load(f)\n",
        "umls_api_key = config[\"umls_api\"]"
      ],
      "metadata": {
        "id": "Prdd4Sc-qqEe"
      },
      "execution_count": 10,
      "outputs": []
    },
    {
      "cell_type": "code",
      "source": [
        "!cd {OHSDI_VOCABULARY_PATH}; bash cpt.sh {umls_api_key}"
      ],
      "metadata": {
        "colab": {
          "base_uri": "https://localhost:8080/"
        },
        "id": "gp7gFcers6eB",
        "outputId": "7e3ca154-c7a3-4306-f12c-a6854f23f011"
      },
      "execution_count": 11,
      "outputs": [
        {
          "output_type": "stream",
          "name": "stdout",
          "text": [
            "WARNING: sun.reflect.Reflection.getCallerClass is not supported. This will impact performance.\n",
            "[INFO ] 2025-03-18 11:47:14.451 [main] ConceptService - Writing updated data to CONCEPT.csv\n",
            "Updated CPT4 records:  17747/17749\n",
            "[INFO ] 2025-03-18 11:47:49.402 [main] ConceptService - All cpt4 concepts are processed.\n"
          ]
        }
      ]
    },
    {
      "cell_type": "code",
      "source": [
        "!cd {OHSDI_VOCABULARY_PATH}; bzip2 -v *.csv"
      ],
      "metadata": {
        "colab": {
          "base_uri": "https://localhost:8080/"
        },
        "id": "PdkVyXvJtoFm",
        "outputId": "b6285752-ffc8-4fe4-f732-b691314d53b0"
      },
      "execution_count": 12,
      "outputs": [
        {
          "output_type": "stream",
          "name": "stdout",
          "text": [
            "bzip2: Output file CONCEPT_ANCESTOR.csv.bz2 already exists.\n",
            "bzip2: Output file CONCEPT_CLASS.csv.bz2 already exists.\n",
            "bzip2: Output file CONCEPT_CPT4.csv.bz2 already exists.\n",
            "bzip2: Output file CONCEPT.csv.bz2 already exists.\n",
            "bzip2: Output file CONCEPT_RELATIONSHIP.csv.bz2 already exists.\n",
            "bzip2: Output file CONCEPT_SYNONYM.csv.bz2 already exists.\n",
            "bzip2: Output file DOMAIN.csv.bz2 already exists.\n",
            "bzip2: Output file DRUG_STRENGTH.csv.bz2 already exists.\n",
            "bzip2: Output file RELATIONSHIP.csv.bz2 already exists.\n",
            "bzip2: Output file VOCABULARY.csv.bz2 already exists.\n"
          ]
        }
      ]
    },
    {
      "cell_type": "code",
      "source": [
        "import pyspark\n",
        "spark = pyspark.sql.SparkSession.builder\\\n",
        "    .config(\"spark.driver.memory\", \"16g\") \\\n",
        "    .getOrCreate()"
      ],
      "metadata": {
        "id": "nwS1WqFRGWhe"
      },
      "execution_count": 6,
      "outputs": []
    },
    {
      "cell_type": "code",
      "source": [
        "ohdsi_configuration = {\n",
        "  \"concept_base_path\": OHSDI_VOCABULARY_PATH,\n",
        "  \"export_concept_mapping_table_path\": OHSDI_VOCABULARY_PATH + \"export/\",\n",
        "  \"concept_csv_file_extension\": \".csv.bz2\"}\n",
        "with open(\"/content/ohdsi_configuration.json\", \"w\") as fw:\n",
        "  json.dump(ohdsi_configuration, fw)"
      ],
      "metadata": {
        "id": "EpQ3q_K4t6L7"
      },
      "execution_count": 13,
      "outputs": []
    },
    {
      "cell_type": "code",
      "source": [
        "%%python /content/PreparedSource2OHDSI/map/ohdsi/build_concept_tables_for_mapping.py -c /content/ohdsi_configuration.json -l"
      ],
      "metadata": {
        "colab": {
          "base_uri": "https://localhost:8080/"
        },
        "id": "0oO4dKvYxyh3",
        "outputId": "862134b6-d864-4da1-aa81-33110a366015"
      },
      "execution_count": 14,
      "outputs": [
        {
          "output_type": "stream",
          "name": "stderr",
          "text": [
            "INFO:root:Configuration:\n",
            "INFO:root:{'concept_base_path': '/content/drive/MyDrive/OHDSI/vocabulary/20250317/', 'export_concept_mapping_table_path': '/content/drive/MyDrive/OHDSI/vocabulary/20250317/export/', 'concept_csv_file_extension': '.csv.bz2'}\n",
            "Setting default log level to \"WARN\".\n",
            "To adjust logging level use sc.setLogLevel(newLevel). For SparkR, use setLogLevel(newLevel).\n",
            "25/03/18 11:47:53 WARN NativeCodeLoader: Unable to load native-hadoop library for your platform... using builtin-java classes where applicable\n",
            "25/03/18 11:47:55 WARN Utils: Service 'SparkUI' could not bind on port 4040. Attempting port 4041.\n",
            "INFO:root:Reading concept csv: '/content/drive/MyDrive/OHDSI/vocabulary/20250317/CONCEPT.csv.bz2'\n",
            "\r[Stage 0:>                                                                              (0 + 1) / 1]\r\r                                                                                                    \r\r[Stage 1:>                                                                              (0 + 8) / 8]\r\r[Stage 1:=========>                                                                     (1 + 7) / 8]\r\r[Stage 1:===================>                                                           (2 + 6) / 8]\r\r[Stage 1:=============================>                                                 (3 + 5) / 8]\r\r[Stage 1:=======================================>                                       (4 + 4) / 8]\r\r[Stage 1:=================================================>                             (5 + 3) / 8]\r\r[Stage 1:===========================================================>                   (6 + 2) / 8]\r\r[Stage 1:=====================================================================>         (7 + 1) / 8]\r\r                                                                                                    \rINFO:root:Reading concept_relationship csv: '/content/drive/MyDrive/OHDSI/vocabulary/20250317/CONCEPT_RELATIONSHIP.csv.bz2'\n",
            "\r[Stage 2:>                                                                              (0 + 1) / 1]\r\r                                                                                                    \r\r[Stage 3:>                                                                              (0 + 8) / 8]\r\r[Stage 3:=========>                                                                     (1 + 7) / 8]\r\r[Stage 3:===================>                                                           (2 + 6) / 8]\r\r[Stage 3:=======================================>                                       (4 + 4) / 8]\r\r[Stage 3:===========================================================>                   (6 + 2) / 8]\r\r[Stage 3:=====================================================================>         (7 + 1) / 8]\r\r                                                                                                    \rINFO:root:Reading vocabulary csv: f'/content/drive/MyDrive/OHDSI/vocabulary/20250317/VOCABULARY.csv.bz2'\n",
            "\r[Stage 7:>                                                                              (0 + 8) / 8]\r\r[Stage 7:=========>                                                                     (1 + 7) / 8]\r\r[Stage 7:===================>                                                           (2 + 6) / 8]\r\r[Stage 7:=============================>                                                 (3 + 5) / 8]\r\r[Stage 7:=======================================>                                       (4 + 4) / 8]\r\r[Stage 7:=================================================>                             (5 + 3) / 8]\r\r[Stage 7:===========================================================>                   (6 + 2) / 8]\r\r[Stage 7:=====================================================================>         (7 + 1) / 8]\r\r                                                                                                    \r\r[Stage 8:>                                                                              (0 + 1) / 1]\r\r                                                                                                    \r\r[Stage 11:>                                                                             (0 + 8) / 8]\r\r[Stage 11:=========>                                                                    (1 + 7) / 8]\r\r[Stage 11:===================>                                                          (2 + 6) / 8]\r\r[Stage 11:=============================>                                                (3 + 5) / 8]\r\r[Stage 11:=======================================>                                      (4 + 4) / 8]\r\r[Stage 11:================================================>                             (5 + 3) / 8]\r\r[Stage 11:==========================================================>                   (6 + 2) / 8]\r\r                                                                                                    \r\r[Stage 13:=============>                                                                (1 + 5) / 6]\r\r[Stage 13:==========================>                                                   (2 + 4) / 6]\r\r[Stage 13:=======================================>                                      (3 + 3) / 6]\r\r[Stage 13:====================================================>                         (4 + 2) / 6]\r\r[Stage 13:=================================================================>            (5 + 1) / 6]\r\r                                                                                                    \r\r[Stage 14:>                                                                             (0 + 1) / 1]\r\r                                                                                                    \rINFO:root:Exporting: 'concept' to '/content/drive/MyDrive/OHDSI/vocabulary/20250317/export/concept.parquet'\n",
            "\r[Stage 18:>                                                                             (0 + 8) / 8]\r\r[Stage 18:=========>                                                                    (1 + 7) / 8]\r\r[Stage 18:===================>                                                          (2 + 6) / 8]\r\r[Stage 18:=============================>                                                (3 + 5) / 8]\r\r[Stage 18:================================================>                             (5 + 3) / 8]\r\r[Stage 18:==========================================================>                   (6 + 2) / 8]\r\r[Stage 18:====================================================================>         (7 + 1) / 8]\r\r[Stage 20:>                                                                             (0 + 7) / 7]\r\r[Stage 20:===========>                                                                  (1 + 6) / 7]\r\r[Stage 20:======================>                                                       (2 + 5) / 7]\r\r[Stage 20:=================================>                                            (3 + 4) / 7]\r\r[Stage 20:============================================>                                 (4 + 3) / 7]\r\r[Stage 20:=======================================================>                      (5 + 2) / 7]\r\r                                                                                                    \rINFO:root:Exporting: 'concept_map' to '/content/drive/MyDrive/OHDSI/vocabulary/20250317/export/concept_map.parquet'\n",
            "\r[Stage 21:>          (0 + 8) / 8][Stage 22:>          (0 + 0) / 1][Stage 23:>          (0 + 0) / 8]\r\r                                                                                                    \r\r[Stage 21:===>                        (1 + 7) / 8][Stage 23:>                           (0 + 1) / 8]\r\r[Stage 21:=======>                    (2 + 6) / 8][Stage 23:>                           (0 + 2) / 8]\r\r[Stage 21:==========>                 (3 + 5) / 8][Stage 23:>                           (0 + 3) / 8]\r\r[Stage 21:=================>          (5 + 3) / 8][Stage 23:>                           (0 + 5) / 8]\r\r[Stage 21:=====================>      (6 + 2) / 8][Stage 23:>                           (0 + 6) / 8]\r\r[Stage 21:========================>   (7 + 1) / 8][Stage 23:>                           (0 + 7) / 8]\r\r[Stage 23:>                                                                             (0 + 8) / 8]\r\r[Stage 23:>                           (0 + 8) / 8][Stage 25:>                           (0 + 0) / 8]\r\r[Stage 23:===>                        (1 + 7) / 8][Stage 25:>                           (0 + 1) / 8]\r\r[Stage 23:===>                        (1 + 7) / 8][Stage 25:===>                        (1 + 1) / 8]\r\r[Stage 23:=======>                    (2 + 6) / 8][Stage 25:===>                        (1 + 2) / 8]\r\r[Stage 23:=======>                    (2 + 6) / 8][Stage 25:=======>                    (2 + 2) / 8]\r\r[Stage 23:=======>                    (2 + 6) / 8][Stage 25:==========>                 (3 + 2) / 8]\r\r[Stage 23:=======>                    (2 + 6) / 8][Stage 25:==============>             (4 + 2) / 8]\r\r[Stage 23:==========>                 (3 + 5) / 8][Stage 25:==============>             (4 + 3) / 8]\r\r[Stage 23:==============>             (4 + 4) / 8][Stage 25:==============>             (4 + 4) / 8]\r\r[Stage 23:=================>          (5 + 3) / 8][Stage 25:==============>             (4 + 4) / 8]\r\r[Stage 23:=================>          (5 + 3) / 8][Stage 25:=====================>      (6 + 2) / 8]\r\r[Stage 23:========================>   (7 + 1) / 8][Stage 25:========================>   (7 + 1) / 8]\r\r[Stage 25:====================================================================>         (7 + 1) / 8]\r\r[Stage 29:>                                                                             (0 + 8) / 9]\r\r[Stage 29:========>                                                                     (1 + 8) / 9]\r\r[Stage 29:==========================>                                                   (3 + 6) / 9]\r\r[Stage 29:=====================================================================>        (8 + 1) / 9]\r\r[Stage 34:>                                                                            (0 + 8) / 14]\r\r[Stage 34:=====>                                                                       (1 + 8) / 14]\r\r[Stage 34:===========>                                                                 (2 + 8) / 14]\r\r[Stage 34:================>                                                            (3 + 8) / 14]\r\r[Stage 34:============================================>                                (8 + 6) / 14]\r\r[Stage 34:=================================================>                           (9 + 5) / 14]\r\r[Stage 34:======================================================>                     (10 + 4) / 14]\r\r[Stage 40:>                                                                             (0 + 7) / 7]\r\r[Stage 40:===========>                                                                  (1 + 6) / 7]\r\r[Stage 40:======================>                                                       (2 + 5) / 7]\r\r[Stage 40:=================================>                                            (3 + 4) / 7]\r\r[Stage 40:============================================>                                 (4 + 3) / 7]\r\r[Stage 40:=======================================================>                      (5 + 2) / 7]\r\r[Stage 40:==================================================================>           (6 + 1) / 7]\r\r                                                                                                    \rINFO:root:Exporting: 'vocabulary' to '/content/drive/MyDrive/OHDSI/vocabulary/20250317/export/vocabulary.parquet'\n",
            "INFO:root:Exporting: 'concept_relationship' to '/content/drive/MyDrive/OHDSI/vocabulary/20250317/export/concept_relationship.parquet'\n",
            "\r[Stage 42:>                                                                             (0 + 8) / 8]\r\r[Stage 42:=========>                                                                    (1 + 7) / 8]\r\r[Stage 42:===================>                                                          (2 + 6) / 8]\r\r[Stage 42:=======================================>                                      (4 + 4) / 8]\r\r[Stage 42:================================================>                             (5 + 3) / 8]\r\r[Stage 42:==========================================================>                   (6 + 2) / 8]\r\r[Stage 42:====================================================================>         (7 + 1) / 8]\r\r[Stage 44:>                                                                             (0 + 8) / 9]\r\r[Stage 44:========>                                                                     (1 + 8) / 9]\r\r[Stage 44:=================>                                                            (2 + 7) / 9]\r\r[Stage 44:==========================>                                                   (3 + 6) / 9]\r\r[Stage 44:==================================>                                           (4 + 5) / 9]\r\r[Stage 44:===========================================>                                  (5 + 4) / 9]\r\r[Stage 44:====================================================>                         (6 + 3) / 9]\r\r[Stage 44:============================================================>                 (7 + 2) / 9]\r\r[Stage 44:=====================================================================>        (8 + 1) / 9]\r\r                                                                                                    \rINFO:root:Exporting: 'concept_ancestor' to '/content/drive/MyDrive/OHDSI/vocabulary/20250317/export/concept_ancestor.parquet'\n",
            "\r[Stage 45:>                                                                             (0 + 8) / 8]\r\r[Stage 45:=========>                                                                    (1 + 7) / 8]\r\r[Stage 45:=============================>                                                (3 + 5) / 8]\r\r[Stage 45:=======================================>                                      (4 + 4) / 8]\r\r[Stage 45:================================================>                             (5 + 3) / 8]\r\r[Stage 45:==========================================================>                   (6 + 2) / 8]\r\r[Stage 45:====================================================================>         (7 + 1) / 8]\r\r[Stage 47:>                                                                             (0 + 8) / 8]\r\r[Stage 47:=========>                                                                    (1 + 7) / 8]\r\r[Stage 47:===================>                                                          (2 + 6) / 8]\r\r[Stage 47:=============================>                                                (3 + 5) / 8]\r\r[Stage 47:=======================================>                                      (4 + 4) / 8]\r\r[Stage 47:==========================================================>                   (6 + 2) / 8]\r\r[Stage 47:====================================================================>         (7 + 1) / 8]\r\r                                                                                                    \rINFO:root:Exporting: 'concept_class' to '/content/drive/MyDrive/OHDSI/vocabulary/20250317/export/concept_class.parquet'\n",
            "INFO:root:Exporting: 'concept_synonym' to '/content/drive/MyDrive/OHDSI/vocabulary/20250317/export/concept_synonym.parquet'\n",
            "\r[Stage 49:>                                                                             (0 + 8) / 8]\r\r[Stage 49:=========>                                                                    (1 + 7) / 8]\r\r[Stage 49:===================>                                                          (2 + 6) / 8]\r\r[Stage 49:=======================================>                                      (4 + 4) / 8]\r\r[Stage 49:====================================================================>         (7 + 1) / 8]\r\r                                                                                                    \rINFO:root:Exporting: 'drug_strength' to '/content/drive/MyDrive/OHDSI/vocabulary/20250317/export/drug_strength.parquet'\n",
            "\r[Stage 50:=============>                                                                (1 + 5) / 6]\r\r[Stage 50:=======================================>                                      (3 + 3) / 6]\r\r[Stage 50:=================================================================>            (5 + 1) / 6]\r\r                                                                                                    \rINFO:root:Exporting: 'domain' to '/content/drive/MyDrive/OHDSI/vocabulary/20250317/export/domain.parquet'\n",
            "INFO:root:Exporting: 'relationship' to '/content/drive/MyDrive/OHDSI/vocabulary/20250317/export/relationship.parquet'\n",
            "INFO:py4j.clientserver:Closing down clientserver connection\n"
          ]
        }
      ]
    },
    {
      "cell_type": "code",
      "source": [],
      "metadata": {
        "id": "SJySK0sQyOMu"
      },
      "execution_count": 14,
      "outputs": []
    }
  ]
}